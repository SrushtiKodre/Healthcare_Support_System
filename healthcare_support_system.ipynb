{
  "nbformat": 4,
  "nbformat_minor": 0,
  "metadata": {
    "colab": {
      "provenance": []
    },
    "kernelspec": {
      "name": "python3",
      "display_name": "Python 3"
    },
    "language_info": {
      "name": "python"
    }
  },
  "cells": [
    {
      "cell_type": "code",
      "execution_count": null,
      "metadata": {
        "id": "1Fm6oGYVilHD"
      },
      "outputs": [],
      "source": [
        "!pip install streamlit google-generativeai pyngrok\n"
      ]
    },
    {
      "cell_type": "code",
      "source": [
        "%%writefile app.py\n",
        "import streamlit as st\n",
        "import google.generativeai as genai\n",
        "\n",
        "GOOGLE_API_KEY = \"your gemini api key\"\n",
        "genai.configure(api_key=GOOGLE_API_KEY)\n",
        "\n",
        "def call_gemini(system_prompt, user_prompt, model=\"gemini-2.5-flash\"):\n",
        "    combined_prompt = f\"{system_prompt}\\n\\nUser Query: {user_prompt}\"\n",
        "    model_instance = genai.GenerativeModel(model_name=model)\n",
        "    response = model_instance.generate_content(combined_prompt)\n",
        "    return response.text\n",
        "\n",
        "def symptom_checker_agent(query):\n",
        "    system_prompt = \"\"\"You are a symptom checking assistant. Given patient symptoms, you provide possible causes and suggest next steps.\"\"\"\n",
        "    user_prompt = f\"Analyze these symptoms: {query}\"\n",
        "    return call_gemini(system_prompt, user_prompt)\n",
        "\n",
        "def medical_research_agent(query):\n",
        "    system_prompt = \"\"\"You are a medical research assistant. Provide detailed and up-to-date medical information about diseases, treatments, or medications.\"\"\"\n",
        "    user_prompt = f\"Research medical information about: {query}\"\n",
        "    return call_gemini(system_prompt, user_prompt)\n",
        "\n",
        "def treatment_pricing_agent(query):\n",
        "    system_prompt = \"\"\"You are a healthcare pricing advisor. Provide information about treatment costs, insurance options, and price comparisons.\"\"\"\n",
        "    user_prompt = f\"Provide pricing information for: {query}\"\n",
        "    return call_gemini(system_prompt, user_prompt)\n",
        "\n",
        "def routing_agent(query):\n",
        "    routing_system_prompt = \"\"\"You are a healthcare routing agent. Classify queries into exactly one of the following:\n",
        "    - SYMPTOM_CHECKER: for symptom analysis and possible diagnoses\n",
        "    - MEDICAL_RESEARCH: for detailed medical information or research about diseases and treatments\n",
        "    - TREATMENT_PRICING: for pricing information about treatments or healthcare services\n",
        "\n",
        "    Respond ONLY with one of these labels.\"\"\"\n",
        "\n",
        "    routing_user_prompt = f\"Classify this healthcare query: {query}\"\n",
        "    task_type = call_gemini(routing_system_prompt, routing_user_prompt).strip()\n",
        "\n",
        "    if \"SYMPTOM_CHECKER\" in task_type:\n",
        "        return \"[Symptom Checker Agent]\\n\" + symptom_checker_agent(query)\n",
        "    elif \"MEDICAL_RESEARCH\" in task_type:\n",
        "        return \"[Medical Research Agent]\\n\" + medical_research_agent(query)\n",
        "    elif \"TREATMENT_PRICING\" in task_type:\n",
        "        return \"[Treatment Pricing Agent]\\n\" + treatment_pricing_agent(query)\n",
        "    else:\n",
        "        return \"Sorry, I could not route your query. Please try rephrasing.\"\n",
        "\n",
        "st.title(\"Healthcare Support System (Powered by Google Gemini)\")\n",
        "st.write(\"Enter your healthcare query and get answers from our smart multi-agent system.\")\n",
        "\n",
        "user_input = st.text_area(\"Enter your query here:\")\n",
        "\n",
        "if st.button(\"Get Response\"):\n",
        "    if user_input.strip():\n",
        "        with st.spinner(\"Processing...\"):\n",
        "            response = routing_agent(user_input)\n",
        "        st.markdown(\"### Response:\")\n",
        "        st.write(response)\n",
        "    else:\n",
        "        st.error(\"Please enter a query to continue.\")\n"
      ],
      "metadata": {
        "id": "xHxvoG_yimKu"
      },
      "execution_count": null,
      "outputs": []
    },
    {
      "cell_type": "code",
      "source": [
        "!ngrok config add-authtoken your ngrok auth token\n"
      ],
      "metadata": {
        "id": "kfqPwC9pimQF"
      },
      "execution_count": null,
      "outputs": []
    },
    {
      "cell_type": "code",
      "source": [
        "from pyngrok import ngrok, conf\n",
        "\n",
        "# Set your ngrok auth token here\n",
        "conf.get_default().auth_token = \"your auth token\"\n",
        "\n",
        "# Kill any existing tunnels\n",
        "ngrok.kill()\n",
        "\n",
        "# Open a tunnel on port 8501 (Streamlit default)\n",
        "public_url = ngrok.connect(8501)\n",
        "print(f\"Ngrok tunnel opened at: {public_url}\")\n"
      ],
      "metadata": {
        "id": "ZlhM6pajimSr"
      },
      "execution_count": null,
      "outputs": []
    },
    {
      "cell_type": "code",
      "source": [
        "!streamlit run app.py &"
      ],
      "metadata": {
        "id": "7wH9R9lEimVD"
      },
      "execution_count": null,
      "outputs": []
    },
    {
      "cell_type": "code",
      "source": [],
      "metadata": {
        "id": "Qx_7FBmuimXk"
      },
      "execution_count": null,
      "outputs": []
    },
    {
      "cell_type": "code",
      "source": [],
      "metadata": {
        "id": "WNDmZaTgimaH"
      },
      "execution_count": null,
      "outputs": []
    },
    {
      "cell_type": "code",
      "source": [],
      "metadata": {
        "id": "3se-wY6CimcS"
      },
      "execution_count": null,
      "outputs": []
    },
    {
      "cell_type": "code",
      "source": [],
      "metadata": {
        "id": "chLAYK1wiwCK"
      },
      "execution_count": null,
      "outputs": []
    },
    {
      "cell_type": "code",
      "source": [],
      "metadata": {
        "id": "Ukl7LO4GiwE6"
      },
      "execution_count": null,
      "outputs": []
    },
    {
      "cell_type": "code",
      "source": [],
      "metadata": {
        "id": "DoQxWrY_iwIX"
      },
      "execution_count": null,
      "outputs": []
    },
    {
      "cell_type": "code",
      "source": [],
      "metadata": {
        "id": "YAjZAE7_imf2"
      },
      "execution_count": null,
      "outputs": []
    }
  ]
}